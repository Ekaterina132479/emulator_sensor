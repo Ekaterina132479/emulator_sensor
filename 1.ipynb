{
 "cells": [
  {
   "cell_type": "code",
   "execution_count": 7,
   "id": "ba0a4874-aa44-4a8d-8ca4-d9e7e73a656f",
   "metadata": {},
   "outputs": [],
   "source": [
    "import random      #библиотека для генерации случайных значений\n",
    "import datetime    #библиотека для работы с датой и временем\n",
    "import time        #библиотека для задержки времени"
   ]
  },
  {
   "cell_type": "code",
   "execution_count": 8,
   "id": "2b1802c2-ca67-4ef7-afb5-32bc157cfe37",
   "metadata": {},
   "outputs": [],
   "source": [
    "#функция sensor_emulator принимает на вход название метрики, \n",
    "#диапазон значений для генерации и единицу измерения\n",
    "def sensor_emulator(metric_name, metric_range, metric_unit):\n",
    "    #время начала работы эмулятора\n",
    "    start_time = datetime.datetime.now()     \n",
    "    #время окончания работы эмулятора\n",
    "    end_time = start_time + datetime.timedelta(minutes=3)    \n",
    "\n",
    "    #открытие файла для записи данных определённой метрики\n",
    "    with open(f\"{metric_name}_data.txt\", \"w\") as file:\n",
    "        #цикл выполняется, пока текущее время меньше времени окончания \n",
    "        while datetime.datetime.now() < end_time:\n",
    "            #создание пустого списка\n",
    "            sensor_values = []\n",
    "            #генерация 60-ти случайных значений и их запись в список\n",
    "            for _ in range(60):\n",
    "                value = random.uniform(metric_range[0], metric_range[1])\n",
    "                sensor_values.append(value)\n",
    "                time.sleep(1)\n",
    "\n",
    "            #вычисление среднего значения метрики за 1 минуту\n",
    "            avg_value = sum(sensor_values) / 60\n",
    "            #время окончания работы эмулятора\n",
    "            current_time = datetime.datetime.now()\n",
    "            #запись в файл времени окончания работы эмулятора, имени метрики, значения и единицы измерения\n",
    "            file.write(f\"{current_time}, {metric_name}, {avg_value:.2f} {metric_unit}\\n\")\n",
    "            \n",
    "    print(f\" sensor '{metric_name}' done\")"
   ]
  },
  {
   "cell_type": "code",
   "execution_count": 9,
   "id": "07482e1a-29f8-4e67-9910-2df186b6b91c",
   "metadata": {},
   "outputs": [
    {
     "name": "stdout",
     "output_type": "stream",
     "text": [
      " sensor 'temperatute' done\n",
      " sensor 'humidity' done\n",
      " sensor 'air_quality' done\n"
     ]
    }
   ],
   "source": [
    "#пример работы эмулятора\n",
    "sensor_emulator(\"temperatute\", (-20, 40), \"°C\")\n",
    "sensor_emulator(\"humidity\", (0, 100), \"%\")\n",
    "sensor_emulator(\"air_quality\", (0, 500), \"ppm\")"
   ]
  },
  {
   "cell_type": "code",
   "execution_count": null,
   "id": "7c451515-2e6c-4fb5-8506-788d09ab8bcd",
   "metadata": {},
   "outputs": [],
   "source": []
  }
 ],
 "metadata": {
  "kernelspec": {
   "display_name": "Python 3 (ipykernel)",
   "language": "python",
   "name": "python3"
  },
  "language_info": {
   "codemirror_mode": {
    "name": "ipython",
    "version": 3
   },
   "file_extension": ".py",
   "mimetype": "text/x-python",
   "name": "python",
   "nbconvert_exporter": "python",
   "pygments_lexer": "ipython3",
   "version": "3.11.5"
  }
 },
 "nbformat": 4,
 "nbformat_minor": 5
}
