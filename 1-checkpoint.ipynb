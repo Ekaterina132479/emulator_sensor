{
 "cells": [
  {
   "cell_type": "code",
   "execution_count": 4,
   "id": "ba0a4874-aa44-4a8d-8ca4-d9e7e73a656f",
   "metadata": {},
   "outputs": [],
   "source": [
    "import random\n",
    "import datetime\n",
    "import time"
   ]
  },
  {
   "cell_type": "code",
   "execution_count": 5,
   "id": "2b1802c2-ca67-4ef7-afb5-32bc157cfe37",
   "metadata": {},
   "outputs": [],
   "source": [
    "def sensor_emulator(metric_name, metric_range, metric_unit):\n",
    "    start_time = datetime.datetime.now()\n",
    "    end_time = start_time + datetime.timedelta(minutes=5)\n",
    "    \n",
    "    with open(f\"{metric_name}_data.txt\", \"w\") as file:\n",
    "        while datetime.datetime.now() < end_time:\n",
    "            sensor_values = []\n",
    "            for _ in range(60):\n",
    "                value = random.uniform(metric_range[0], metric_range[1])\n",
    "                sensor_values.append(value)\n",
    "                time.sleep(1)\n",
    "            \n",
    "            avg_value = sum(sensor_values) / 60\n",
    "            current_time = datetime.datetime.now()\n",
    "            file.write(f\"{current_time}, {metric_name}, {avg_value:.2f} {metric_unit}\\n\")\n",
    "            \n",
    "    print(f\"Эмулятор датчика '{metric_name}' завершил работу.\")"
   ]
  },
  {
   "cell_type": "code",
   "execution_count": null,
   "id": "07482e1a-29f8-4e67-9910-2df186b6b91c",
   "metadata": {},
   "outputs": [],
   "source": [
    "# Пример использования\n",
    "sensor_emulator(\"temperatute\", (-20, 40), \"°C\")\n",
    "sensor_emulator(\"humidity\", (0, 100), \"%\")\n",
    "sensor_emulator(\"air_quality\", (0, 500), \"ppm\")"
   ]
  },
  {
   "cell_type": "code",
   "execution_count": null,
   "id": "0e029761-8068-49d3-a58f-1d4c9f3a66b6",
   "metadata": {},
   "outputs": [],
   "source": []
  }
 ],
 "metadata": {
  "kernelspec": {
   "display_name": "Python 3 (ipykernel)",
   "language": "python",
   "name": "python3"
  },
  "language_info": {
   "codemirror_mode": {
    "name": "ipython",
    "version": 3
   },
   "file_extension": ".py",
   "mimetype": "text/x-python",
   "name": "python",
   "nbconvert_exporter": "python",
   "pygments_lexer": "ipython3",
   "version": "3.11.5"
  }
 },
 "nbformat": 4,
 "nbformat_minor": 5
}
